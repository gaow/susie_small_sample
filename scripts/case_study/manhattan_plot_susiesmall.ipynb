{
 "cells": [
  {
   "cell_type": "markdown",
   "id": "4664927e-2547-480a-8396-ee93897f6db4",
   "metadata": {},
   "source": [
    "# Manhattan plot for the susie_small example\n",
    "\n",
    "Since the credible set (CS) example comes from MiGA_SVZ_eQTL, we will generate a genome-wide Manhattan plot for this cohort only.\n",
    "To account for the small sample size, marginal p-values were obtained using linear regression instead of `susieR::univariate_regression()`, which assume normal distribution."
   ]
  },
  {
   "cell_type": "code",
   "execution_count": 1,
   "id": "892179df-79fc-4e41-bf8a-c3e54f757e37",
   "metadata": {},
   "outputs": [],
   "source": [
    "# Load data\n",
    "your_path <- \"~/project/susie_small/\"\n",
    "small_data <- readRDS(paste0(your_path, \"MiGA_eQTL.chr2_ENSG00000151694.univariate_data.rds\"))"
   ]
  },
  {
   "cell_type": "code",
   "execution_count": 2,
   "id": "e6d9fda0-fcd4-402f-9f82-a99d6c5ae178",
   "metadata": {},
   "outputs": [
    {
     "name": "stdout",
     "output_type": "stream",
     "text": [
      "List of 10\n",
      " $ residual_Y       :List of 4\n",
      "  ..$ MiGA_GFM_eQTL: num [1:66, 1] -0.281 -0.2128 -0.3517 -0.6193 -0.0751 ...\n",
      "  .. ..- attr(*, \"dimnames\")=List of 2\n",
      "  .. .. ..$ : chr [1:66] \"14-005\" \"14-015\" \"14-029\" \"14-046\" ...\n",
      "  .. .. ..$ : NULL\n",
      "  ..$ MiGA_GTS_eQTL: num [1:56, 1] -0.2417 -0.2457 0.0436 -0.3436 0.5409 ...\n",
      "  .. ..- attr(*, \"dimnames\")=List of 2\n",
      "  .. .. ..$ : chr [1:56] \"14-005\" \"14-015\" \"14-029\" \"14-051\" ...\n",
      "  .. .. ..$ : NULL\n",
      "  ..$ MiGA_SVZ_eQTL: num [1:47, 1] -0.3912 -0.3301 -0.0192 0.3922 -0.2067 ...\n",
      "  .. ..- attr(*, \"dimnames\")=List of 2\n",
      "  .. .. ..$ : chr [1:47] \"16-003\" \"16-024\" \"16-033\" \"16-062\" ...\n",
      "  .. .. ..$ : NULL\n",
      "  ..$ MiGA_THA_eQTL: num [1:56, 1] -0.4856 -0.2359 0.3201 -0.1123 0.0549 ...\n",
      "  .. ..- attr(*, \"dimnames\")=List of 2\n",
      "  .. .. ..$ : chr [1:56] \"15-021\" \"15-024\" \"15-032\" \"15-041\" ...\n",
      "  .. .. ..$ : NULL\n",
      " $ residual_X       :List of 4\n",
      "  ..$ : num [1:66, 1:7900] -0.1002 -0.1439 -0.1025 -0.0203 0.0393 ...\n",
      "  .. ..- attr(*, \"dimnames\")=List of 2\n",
      "  .. .. ..$ : chr [1:66] \"14-005\" \"14-015\" \"14-029\" \"14-046\" ...\n",
      "  .. .. ..$ : chr [1:7900] \"chr2:6840800:G:T\" \"chr2:6843217:G:A\" \"chr2:6843960:A:G\" \"chr2:6845038:G:C\" ...\n",
      "  ..$ : num [1:56, 1:7526] -0.166 -0.269 -0.206 -0.233 -0.212 ...\n",
      "  .. ..- attr(*, \"dimnames\")=List of 2\n",
      "  .. .. ..$ : chr [1:56] \"14-005\" \"14-015\" \"14-029\" \"14-051\" ...\n",
      "  .. .. ..$ : chr [1:7526] \"chr2:6840800:G:T\" \"chr2:6843217:G:A\" \"chr2:6843960:A:G\" \"chr2:6845038:G:C\" ...\n",
      "  ..$ : num [1:47, 1:7430] -0.2116 0.0999 0.3805 -0.2574 -0.3043 ...\n",
      "  .. ..- attr(*, \"dimnames\")=List of 2\n",
      "  .. .. ..$ : chr [1:47] \"16-003\" \"16-024\" \"16-033\" \"16-062\" ...\n",
      "  .. .. ..$ : chr [1:7430] \"chr2:6843217:G:A\" \"chr2:6843960:A:G\" \"chr2:6845038:G:C\" \"chr2:6848538:C:T\" ...\n",
      "  ..$ : num [1:56, 1:7697] -0.0351 0.0845 0.0126 0.2635 0.088 ...\n",
      "  .. ..- attr(*, \"dimnames\")=List of 2\n",
      "  .. .. ..$ : chr [1:56] \"15-021\" \"15-024\" \"15-032\" \"15-041\" ...\n",
      "  .. .. ..$ : chr [1:7697] \"chr2:6840800:G:T\" \"chr2:6843217:G:A\" \"chr2:6843960:A:G\" \"chr2:6845038:G:C\" ...\n",
      " $ residual_Y_scalar: num [1:4] 1 1 1 1\n",
      " $ residual_X_scalar: num [1:4] 1 1 1 1\n",
      " $ dropped_sample   :List of 3\n",
      "  ..$ X    :List of 4\n",
      "  .. ..$ : chr [1:20] \"14-051\" \"15-021\" \"15-032\" \"15-041\" ...\n",
      "  .. ..$ : chr [1:30] \"14-046\" \"14-078\" \"15-021\" \"15-024\" ...\n",
      "  .. ..$ : chr [1:39] \"14-005\" \"14-015\" \"14-029\" \"14-046\" ...\n",
      "  .. ..$ : chr [1:30] \"14-005\" \"14-015\" \"14-029\" \"14-046\" ...\n",
      "  ..$ Y    :List of 4\n",
      "  .. ..$ : chr [1:8] \"13-080\" \"16-049\" \"16-056\" \"16-102\" ...\n",
      "  .. ..$ : chr [1:6] \"13-080\" \"15-077\" \"16-049\" \"16-112\" ...\n",
      "  .. ..$ : chr [1:5] \"16-049\" \"16-112\" \"18-042\" \"MG-03\" ...\n",
      "  .. ..$ : chr [1:4] \"16-049\" \"16-056\" \"16-112\" \"18-063\"\n",
      "  ..$ covar:List of 4\n",
      "  .. ..$ : chr(0) \n",
      "  .. ..$ : chr(0) \n",
      "  .. ..$ : chr \"MG-03\"\n",
      "  .. ..$ : chr(0) \n",
      " $ maf              :List of 4\n",
      "  ..$ : Named num [1:7900] 0.053 0.1591 0.1591 0.0909 0.0606 ...\n",
      "  .. ..- attr(*, \"names\")= chr [1:7900] \"chr2:6840800:G:T\" \"chr2:6843217:G:A\" \"chr2:6843960:A:G\" \"chr2:6845038:G:C\" ...\n",
      "  ..$ : Named num [1:7526] 0.0625 0.1875 0.1875 0.125 0.0536 ...\n",
      "  .. ..- attr(*, \"names\")= chr [1:7526] \"chr2:6840800:G:T\" \"chr2:6843217:G:A\" \"chr2:6843960:A:G\" \"chr2:6845038:G:C\" ...\n",
      "  ..$ : Named num [1:7430] 0.234 0.234 0.149 0.234 0.128 ...\n",
      "  .. ..- attr(*, \"names\")= chr [1:7430] \"chr2:6843217:G:A\" \"chr2:6843960:A:G\" \"chr2:6845038:G:C\" \"chr2:6848538:C:T\" ...\n",
      "  ..$ : Named num [1:7697] 0.0536 0.2232 0.2232 0.1429 0.0625 ...\n",
      "  .. ..- attr(*, \"names\")= chr [1:7697] \"chr2:6840800:G:T\" \"chr2:6843217:G:A\" \"chr2:6843960:A:G\" \"chr2:6845038:G:C\" ...\n",
      " $ X                : num [1:86, 1:8306] 0 0 0 0 0 0 1 0 1 0 ...\n",
      "  ..- attr(*, \"dimnames\")=List of 2\n",
      "  .. ..$ : chr [1:86] \"14-005\" \"14-015\" \"14-029\" \"14-046\" ...\n",
      "  .. ..$ : chr [1:8306] \"chr2:6840800:G:T\" \"chr2:6842130:C:T\" \"chr2:6842709:T:C\" \"chr2:6843217:G:A\" ...\n",
      " $ chrom            : chr \"chr2\"\n",
      " $ grange           : chr [1:2] \"9556731\" \"9556732\"\n",
      " $ X_variance       :List of 4\n",
      "  ..$ : Named num [1:7900] 0.0773 0.1779 0.1779 0.0925 0.0814 ...\n",
      "  .. ..- attr(*, \"names\")= chr [1:7900] \"chr2:6840800:G:T\" \"chr2:6843217:G:A\" \"chr2:6843960:A:G\" \"chr2:6845038:G:C\" ...\n",
      "  ..$ : Named num [1:7526] 0.0646 0.1767 0.1767 0.1078 0.0598 ...\n",
      "  .. ..- attr(*, \"names\")= chr [1:7526] \"chr2:6840800:G:T\" \"chr2:6843217:G:A\" \"chr2:6843960:A:G\" \"chr2:6845038:G:C\" ...\n",
      "  ..$ : Named num [1:7430] 0.2378 0.2378 0.1543 0.1878 0.0981 ...\n",
      "  .. ..- attr(*, \"names\")= chr [1:7430] \"chr2:6843217:G:A\" \"chr2:6843960:A:G\" \"chr2:6845038:G:C\" \"chr2:6848538:C:T\" ...\n",
      "  ..$ : Named num [1:7697] 0.0589 0.2163 0.2163 0.1161 0.0858 ...\n",
      "  .. ..- attr(*, \"names\")= chr [1:7697] \"chr2:6840800:G:T\" \"chr2:6843217:G:A\" \"chr2:6843960:A:G\" \"chr2:6845038:G:C\" ...\n"
     ]
    }
   ],
   "source": [
    "str(small_data[[1]])"
   ]
  },
  {
   "cell_type": "code",
   "execution_count": 153,
   "id": "3d457ba7-c65e-4c71-a59b-d982cb5c2856",
   "metadata": {},
   "outputs": [
    {
     "data": {
      "text/html": [
       "30589"
      ],
      "text/latex": [
       "30589"
      ],
      "text/markdown": [
       "30589"
      ],
      "text/plain": [
       "[1] 30589"
      ]
     },
     "metadata": {},
     "output_type": "display_data"
    }
   ],
   "source": [
    "## check the variant counts \n",
    "7900+7562+7430+7697"
   ]
  },
  {
   "cell_type": "code",
   "execution_count": 3,
   "id": "e48fe7a9-13b5-48ac-823a-d8540728953b",
   "metadata": {},
   "outputs": [
    {
     "data": {
      "text/html": [
       "<table class=\"dataframe\">\n",
       "<caption>A data.frame: 6 × 6</caption>\n",
       "<thead>\n",
       "\t<tr><th></th><th scope=col>variant_id</th><th scope=col>beta</th><th scope=col>se</th><th scope=col>tval</th><th scope=col>pval</th><th scope=col>context</th></tr>\n",
       "\t<tr><th></th><th scope=col>&lt;chr&gt;</th><th scope=col>&lt;dbl&gt;</th><th scope=col>&lt;dbl&gt;</th><th scope=col>&lt;dbl&gt;</th><th scope=col>&lt;dbl&gt;</th><th scope=col>&lt;chr&gt;</th></tr>\n",
       "</thead>\n",
       "<tbody>\n",
       "\t<tr><th scope=row>27663</th><td>chr2:9565770:A:G </td><td> 0.4660013</td><td>0.07511243</td><td> 6.204051</td><td>8.014104e-08</td><td>MiGA_THA_eQTL</td></tr>\n",
       "\t<tr><th scope=row>20345</th><td>chr2:9703940:G:C </td><td>-0.6056692</td><td>0.10010201</td><td>-6.050519</td><td>2.627086e-07</td><td>MiGA_SVZ_eQTL</td></tr>\n",
       "\t<tr><th scope=row>20346</th><td>chr2:9704049:G:A </td><td>-0.6056692</td><td>0.10010201</td><td>-6.050519</td><td>2.627086e-07</td><td>MiGA_SVZ_eQTL</td></tr>\n",
       "\t<tr><th scope=row>27667</th><td>chr2:9569566:T:C </td><td> 0.4758946</td><td>0.08125381</td><td> 5.856890</td><td>2.889687e-07</td><td>MiGA_THA_eQTL</td></tr>\n",
       "\t<tr><th scope=row>27658</th><td>chr2:9563097:C:T </td><td> 0.4610775</td><td>0.08152103</td><td> 5.655932</td><td>6.036584e-07</td><td>MiGA_THA_eQTL</td></tr>\n",
       "\t<tr><th scope=row>15217</th><td>chr2:10467571:C:G</td><td>-0.6087742</td><td>0.11026360</td><td>-5.521081</td><td>9.867809e-07</td><td>MiGA_GTS_eQTL</td></tr>\n",
       "</tbody>\n",
       "</table>\n"
      ],
      "text/latex": [
       "A data.frame: 6 × 6\n",
       "\\begin{tabular}{r|llllll}\n",
       "  & variant\\_id & beta & se & tval & pval & context\\\\\n",
       "  & <chr> & <dbl> & <dbl> & <dbl> & <dbl> & <chr>\\\\\n",
       "\\hline\n",
       "\t27663 & chr2:9565770:A:G  &  0.4660013 & 0.07511243 &  6.204051 & 8.014104e-08 & MiGA\\_THA\\_eQTL\\\\\n",
       "\t20345 & chr2:9703940:G:C  & -0.6056692 & 0.10010201 & -6.050519 & 2.627086e-07 & MiGA\\_SVZ\\_eQTL\\\\\n",
       "\t20346 & chr2:9704049:G:A  & -0.6056692 & 0.10010201 & -6.050519 & 2.627086e-07 & MiGA\\_SVZ\\_eQTL\\\\\n",
       "\t27667 & chr2:9569566:T:C  &  0.4758946 & 0.08125381 &  5.856890 & 2.889687e-07 & MiGA\\_THA\\_eQTL\\\\\n",
       "\t27658 & chr2:9563097:C:T  &  0.4610775 & 0.08152103 &  5.655932 & 6.036584e-07 & MiGA\\_THA\\_eQTL\\\\\n",
       "\t15217 & chr2:10467571:C:G & -0.6087742 & 0.11026360 & -5.521081 & 9.867809e-07 & MiGA\\_GTS\\_eQTL\\\\\n",
       "\\end{tabular}\n"
      ],
      "text/markdown": [
       "\n",
       "A data.frame: 6 × 6\n",
       "\n",
       "| <!--/--> | variant_id &lt;chr&gt; | beta &lt;dbl&gt; | se &lt;dbl&gt; | tval &lt;dbl&gt; | pval &lt;dbl&gt; | context &lt;chr&gt; |\n",
       "|---|---|---|---|---|---|---|\n",
       "| 27663 | chr2:9565770:A:G  |  0.4660013 | 0.07511243 |  6.204051 | 8.014104e-08 | MiGA_THA_eQTL |\n",
       "| 20345 | chr2:9703940:G:C  | -0.6056692 | 0.10010201 | -6.050519 | 2.627086e-07 | MiGA_SVZ_eQTL |\n",
       "| 20346 | chr2:9704049:G:A  | -0.6056692 | 0.10010201 | -6.050519 | 2.627086e-07 | MiGA_SVZ_eQTL |\n",
       "| 27667 | chr2:9569566:T:C  |  0.4758946 | 0.08125381 |  5.856890 | 2.889687e-07 | MiGA_THA_eQTL |\n",
       "| 27658 | chr2:9563097:C:T  |  0.4610775 | 0.08152103 |  5.655932 | 6.036584e-07 | MiGA_THA_eQTL |\n",
       "| 15217 | chr2:10467571:C:G | -0.6087742 | 0.11026360 | -5.521081 | 9.867809e-07 | MiGA_GTS_eQTL |\n",
       "\n"
      ],
      "text/plain": [
       "      variant_id        beta       se         tval      pval        \n",
       "27663 chr2:9565770:A:G   0.4660013 0.07511243  6.204051 8.014104e-08\n",
       "20345 chr2:9703940:G:C  -0.6056692 0.10010201 -6.050519 2.627086e-07\n",
       "20346 chr2:9704049:G:A  -0.6056692 0.10010201 -6.050519 2.627086e-07\n",
       "27667 chr2:9569566:T:C   0.4758946 0.08125381  5.856890 2.889687e-07\n",
       "27658 chr2:9563097:C:T   0.4610775 0.08152103  5.655932 6.036584e-07\n",
       "15217 chr2:10467571:C:G -0.6087742 0.11026360 -5.521081 9.867809e-07\n",
       "      context      \n",
       "27663 MiGA_THA_eQTL\n",
       "20345 MiGA_SVZ_eQTL\n",
       "20346 MiGA_SVZ_eQTL\n",
       "27667 MiGA_THA_eQTL\n",
       "27658 MiGA_THA_eQTL\n",
       "15217 MiGA_GTS_eQTL"
      ]
     },
     "metadata": {},
     "output_type": "display_data"
    }
   ],
   "source": [
    "## using linear regression, which conducts analysis with t distribution, to calculate the marginal p value\n",
    "get_marginal_pvalues <- function(region_data) {\n",
    "  results <- list()\n",
    "  \n",
    "  for (r in seq_along(region_data$residual_Y)) {\n",
    "    \n",
    "    # Extract phenotype residuals (vector) and genotype residuals (matrix)\n",
    "    Y_resid <- as.numeric(region_data$residual_Y[[r]])\n",
    "    X_resid <- region_data$residual_X[[r]]\n",
    "    \n",
    "    variant_ids <- colnames(X_resid)\n",
    "    n <- nrow(X_resid)\n",
    "    \n",
    "    res_df <- data.frame(\n",
    "      variant_id = variant_ids,\n",
    "      beta = NA_real_,\n",
    "      se = NA_real_,\n",
    "      tval = NA_real_,\n",
    "      pval = NA_real_,\n",
    "      context = names(region_data$residual_Y)[r]\n",
    "    )\n",
    "    \n",
    "    # Loop through variants (columns of X_resid)\n",
    "    for (j in seq_along(variant_ids)) {\n",
    "      geno <- X_resid[, j]\n",
    "      \n",
    "      # Simple linear regression: Y ~ geno\n",
    "      fit <- lm(Y_resid ~ geno)\n",
    "      coef_summary <- summary(fit)$coefficients\n",
    "      \n",
    "      # Extract beta, se, t, p for geno\n",
    "      res_df$beta[j] <- coef_summary[\"geno\", \"Estimate\"]\n",
    "      res_df$se[j]   <- coef_summary[\"geno\", \"Std. Error\"]\n",
    "      res_df$tval[j] <- coef_summary[\"geno\", \"t value\"]\n",
    "      res_df$pval[j] <- coef_summary[\"geno\", \"Pr(>|t|)\"]\n",
    "    }\n",
    "    \n",
    "    results[[r]] <- res_df\n",
    "  }\n",
    "  \n",
    "  dplyr::bind_rows(results)\n",
    "}\n",
    "\n",
    "# Example usage\n",
    "region_results <- get_marginal_pvalues(small_data[[1]])\n",
    "\n",
    "# Top hits\n",
    "head(region_results[order(region_results$pval), ])\n"
   ]
  },
  {
   "cell_type": "code",
   "execution_count": 5,
   "id": "a47fa5b9-c4af-4986-aac0-515ff65a2efe",
   "metadata": {},
   "outputs": [
    {
     "data": {
      "text/html": [
       "<style>\n",
       ".list-inline {list-style: none; margin:0; padding: 0}\n",
       ".list-inline>li {display: inline-block}\n",
       ".list-inline>li:not(:last-child)::after {content: \"\\00b7\"; padding: 0 .5ex}\n",
       "</style>\n",
       "<ol class=list-inline><li>30553</li><li>6</li></ol>\n"
      ],
      "text/latex": [
       "\\begin{enumerate*}\n",
       "\\item 30553\n",
       "\\item 6\n",
       "\\end{enumerate*}\n"
      ],
      "text/markdown": [
       "1. 30553\n",
       "2. 6\n",
       "\n",
       "\n"
      ],
      "text/plain": [
       "[1] 30553     6"
      ]
     },
     "metadata": {},
     "output_type": "display_data"
    }
   ],
   "source": [
    "dim(region_results[order(region_results$pval), ])"
   ]
  },
  {
   "cell_type": "code",
   "execution_count": 9,
   "id": "2062455b-e916-48ec-a91e-66e2795a7462",
   "metadata": {},
   "outputs": [
    {
     "data": {
      "text/html": [
       "<table class=\"dataframe\">\n",
       "<caption>A data.frame: 6 × 6</caption>\n",
       "<thead>\n",
       "\t<tr><th></th><th scope=col>variant_id</th><th scope=col>beta</th><th scope=col>se</th><th scope=col>tval</th><th scope=col>pval</th><th scope=col>context</th></tr>\n",
       "\t<tr><th></th><th scope=col>&lt;chr&gt;</th><th scope=col>&lt;dbl&gt;</th><th scope=col>&lt;dbl&gt;</th><th scope=col>&lt;dbl&gt;</th><th scope=col>&lt;dbl&gt;</th><th scope=col>&lt;chr&gt;</th></tr>\n",
       "</thead>\n",
       "<tbody>\n",
       "\t<tr><th scope=row>1</th><td>chr2:6843217:G:A</td><td>0.01218673</td><td>0.1367432</td><td>0.08912131</td><td>0.9293810</td><td>MiGA_SVZ_eQTL</td></tr>\n",
       "\t<tr><th scope=row>2</th><td>chr2:6843960:A:G</td><td>0.01218673</td><td>0.1367432</td><td>0.08912131</td><td>0.9293810</td><td>MiGA_SVZ_eQTL</td></tr>\n",
       "\t<tr><th scope=row>3</th><td>chr2:6845038:G:C</td><td>0.21304179</td><td>0.1668000</td><td>1.27722860</td><td>0.2080724</td><td>MiGA_SVZ_eQTL</td></tr>\n",
       "\t<tr><th scope=row>4</th><td>chr2:6848538:C:T</td><td>0.03780192</td><td>0.1538081</td><td>0.24577330</td><td>0.8069753</td><td>MiGA_SVZ_eQTL</td></tr>\n",
       "\t<tr><th scope=row>5</th><td>chr2:6849889:C:T</td><td>0.30097580</td><td>0.2081486</td><td>1.44596565</td><td>0.1551161</td><td>MiGA_SVZ_eQTL</td></tr>\n",
       "\t<tr><th scope=row>6</th><td>chr2:6854646:C:T</td><td>0.13177179</td><td>0.1499316</td><td>0.87887928</td><td>0.3841357</td><td>MiGA_SVZ_eQTL</td></tr>\n",
       "</tbody>\n",
       "</table>\n"
      ],
      "text/latex": [
       "A data.frame: 6 × 6\n",
       "\\begin{tabular}{r|llllll}\n",
       "  & variant\\_id & beta & se & tval & pval & context\\\\\n",
       "  & <chr> & <dbl> & <dbl> & <dbl> & <dbl> & <chr>\\\\\n",
       "\\hline\n",
       "\t1 & chr2:6843217:G:A & 0.01218673 & 0.1367432 & 0.08912131 & 0.9293810 & MiGA\\_SVZ\\_eQTL\\\\\n",
       "\t2 & chr2:6843960:A:G & 0.01218673 & 0.1367432 & 0.08912131 & 0.9293810 & MiGA\\_SVZ\\_eQTL\\\\\n",
       "\t3 & chr2:6845038:G:C & 0.21304179 & 0.1668000 & 1.27722860 & 0.2080724 & MiGA\\_SVZ\\_eQTL\\\\\n",
       "\t4 & chr2:6848538:C:T & 0.03780192 & 0.1538081 & 0.24577330 & 0.8069753 & MiGA\\_SVZ\\_eQTL\\\\\n",
       "\t5 & chr2:6849889:C:T & 0.30097580 & 0.2081486 & 1.44596565 & 0.1551161 & MiGA\\_SVZ\\_eQTL\\\\\n",
       "\t6 & chr2:6854646:C:T & 0.13177179 & 0.1499316 & 0.87887928 & 0.3841357 & MiGA\\_SVZ\\_eQTL\\\\\n",
       "\\end{tabular}\n"
      ],
      "text/markdown": [
       "\n",
       "A data.frame: 6 × 6\n",
       "\n",
       "| <!--/--> | variant_id &lt;chr&gt; | beta &lt;dbl&gt; | se &lt;dbl&gt; | tval &lt;dbl&gt; | pval &lt;dbl&gt; | context &lt;chr&gt; |\n",
       "|---|---|---|---|---|---|---|\n",
       "| 1 | chr2:6843217:G:A | 0.01218673 | 0.1367432 | 0.08912131 | 0.9293810 | MiGA_SVZ_eQTL |\n",
       "| 2 | chr2:6843960:A:G | 0.01218673 | 0.1367432 | 0.08912131 | 0.9293810 | MiGA_SVZ_eQTL |\n",
       "| 3 | chr2:6845038:G:C | 0.21304179 | 0.1668000 | 1.27722860 | 0.2080724 | MiGA_SVZ_eQTL |\n",
       "| 4 | chr2:6848538:C:T | 0.03780192 | 0.1538081 | 0.24577330 | 0.8069753 | MiGA_SVZ_eQTL |\n",
       "| 5 | chr2:6849889:C:T | 0.30097580 | 0.2081486 | 1.44596565 | 0.1551161 | MiGA_SVZ_eQTL |\n",
       "| 6 | chr2:6854646:C:T | 0.13177179 | 0.1499316 | 0.87887928 | 0.3841357 | MiGA_SVZ_eQTL |\n",
       "\n"
      ],
      "text/plain": [
       "  variant_id       beta       se        tval       pval      context      \n",
       "1 chr2:6843217:G:A 0.01218673 0.1367432 0.08912131 0.9293810 MiGA_SVZ_eQTL\n",
       "2 chr2:6843960:A:G 0.01218673 0.1367432 0.08912131 0.9293810 MiGA_SVZ_eQTL\n",
       "3 chr2:6845038:G:C 0.21304179 0.1668000 1.27722860 0.2080724 MiGA_SVZ_eQTL\n",
       "4 chr2:6848538:C:T 0.03780192 0.1538081 0.24577330 0.8069753 MiGA_SVZ_eQTL\n",
       "5 chr2:6849889:C:T 0.30097580 0.2081486 1.44596565 0.1551161 MiGA_SVZ_eQTL\n",
       "6 chr2:6854646:C:T 0.13177179 0.1499316 0.87887928 0.3841357 MiGA_SVZ_eQTL"
      ]
     },
     "metadata": {},
     "output_type": "display_data"
    }
   ],
   "source": [
    "head(MiGA_SVZ_eQTL)"
   ]
  },
  {
   "cell_type": "code",
   "execution_count": 8,
   "id": "2d574210-91ba-4919-9f78-116b91c0f4ae",
   "metadata": {},
   "outputs": [],
   "source": [
    "MiGA_SVZ_eQTL = region_results |> dplyr::filter(context == \"MiGA_SVZ_eQTL\")"
   ]
  },
  {
   "cell_type": "code",
   "execution_count": 11,
   "id": "04564d62-5754-4779-9bfb-a75b5e76cf16",
   "metadata": {},
   "outputs": [
    {
     "name": "stderr",
     "output_type": "stream",
     "text": [
      "Much appreciate for using CMplot.\n",
      "\n",
      "Full description, Bug report, Suggestion and the latest codes:\n",
      "\n",
      "https://github.com/YinLiLin/CMplot\n",
      "\n"
     ]
    }
   ],
   "source": [
    "install.packages(\"CMplot\", lib = \"~/temp_R_libs\")\n",
    "library(CMplot, lib.loc = \"~/temp_R_libs\")"
   ]
  },
  {
   "cell_type": "code",
   "execution_count": 12,
   "id": "9d458fba-6ed2-4aa5-bc0a-e85bffdb233c",
   "metadata": {},
   "outputs": [
    {
     "data": {
      "text/html": [
       "<table class=\"dataframe\">\n",
       "<caption>A data.frame: 6 × 4</caption>\n",
       "<thead>\n",
       "\t<tr><th></th><th scope=col>SNP</th><th scope=col>Chr</th><th scope=col>Position</th><th scope=col>P</th></tr>\n",
       "\t<tr><th></th><th scope=col>&lt;chr&gt;</th><th scope=col>&lt;chr&gt;</th><th scope=col>&lt;dbl&gt;</th><th scope=col>&lt;dbl&gt;</th></tr>\n",
       "</thead>\n",
       "<tbody>\n",
       "\t<tr><th scope=row>1</th><td>chr2:6843217:G:A</td><td>2</td><td>6843217</td><td>0.9293810</td></tr>\n",
       "\t<tr><th scope=row>2</th><td>chr2:6843960:A:G</td><td>2</td><td>6843960</td><td>0.9293810</td></tr>\n",
       "\t<tr><th scope=row>3</th><td>chr2:6845038:G:C</td><td>2</td><td>6845038</td><td>0.2080724</td></tr>\n",
       "\t<tr><th scope=row>4</th><td>chr2:6848538:C:T</td><td>2</td><td>6848538</td><td>0.8069753</td></tr>\n",
       "\t<tr><th scope=row>5</th><td>chr2:6849889:C:T</td><td>2</td><td>6849889</td><td>0.1551161</td></tr>\n",
       "\t<tr><th scope=row>6</th><td>chr2:6854646:C:T</td><td>2</td><td>6854646</td><td>0.3841357</td></tr>\n",
       "</tbody>\n",
       "</table>\n"
      ],
      "text/latex": [
       "A data.frame: 6 × 4\n",
       "\\begin{tabular}{r|llll}\n",
       "  & SNP & Chr & Position & P\\\\\n",
       "  & <chr> & <chr> & <dbl> & <dbl>\\\\\n",
       "\\hline\n",
       "\t1 & chr2:6843217:G:A & 2 & 6843217 & 0.9293810\\\\\n",
       "\t2 & chr2:6843960:A:G & 2 & 6843960 & 0.9293810\\\\\n",
       "\t3 & chr2:6845038:G:C & 2 & 6845038 & 0.2080724\\\\\n",
       "\t4 & chr2:6848538:C:T & 2 & 6848538 & 0.8069753\\\\\n",
       "\t5 & chr2:6849889:C:T & 2 & 6849889 & 0.1551161\\\\\n",
       "\t6 & chr2:6854646:C:T & 2 & 6854646 & 0.3841357\\\\\n",
       "\\end{tabular}\n"
      ],
      "text/markdown": [
       "\n",
       "A data.frame: 6 × 4\n",
       "\n",
       "| <!--/--> | SNP &lt;chr&gt; | Chr &lt;chr&gt; | Position &lt;dbl&gt; | P &lt;dbl&gt; |\n",
       "|---|---|---|---|---|\n",
       "| 1 | chr2:6843217:G:A | 2 | 6843217 | 0.9293810 |\n",
       "| 2 | chr2:6843960:A:G | 2 | 6843960 | 0.9293810 |\n",
       "| 3 | chr2:6845038:G:C | 2 | 6845038 | 0.2080724 |\n",
       "| 4 | chr2:6848538:C:T | 2 | 6848538 | 0.8069753 |\n",
       "| 5 | chr2:6849889:C:T | 2 | 6849889 | 0.1551161 |\n",
       "| 6 | chr2:6854646:C:T | 2 | 6854646 | 0.3841357 |\n",
       "\n"
      ],
      "text/plain": [
       "  SNP              Chr Position P        \n",
       "1 chr2:6843217:G:A 2   6843217  0.9293810\n",
       "2 chr2:6843960:A:G 2   6843960  0.9293810\n",
       "3 chr2:6845038:G:C 2   6845038  0.2080724\n",
       "4 chr2:6848538:C:T 2   6848538  0.8069753\n",
       "5 chr2:6849889:C:T 2   6849889  0.1551161\n",
       "6 chr2:6854646:C:T 2   6854646  0.3841357"
      ]
     },
     "metadata": {},
     "output_type": "display_data"
    }
   ],
   "source": [
    "library(dplyr)\n",
    "library(tidyr)\n",
    "library(CMplot)\n",
    "\n",
    "\n",
    "# --- Preprocess for CMplot ---\n",
    "plot_df <- MiGA_SVZ_eQTL %>%\n",
    "  separate(variant_id, into = c(\"Chr\", \"Position\", \"Ref\", \"Alt\"), sep = \":\", remove = FALSE) %>%\n",
    "  mutate(\n",
    "    Chr = gsub(\"chr\", \"\", Chr),     # remove \"chr\" prefix\n",
    "    Position = as.numeric(Position)\n",
    "  ) %>%\n",
    "  rename(SNP = variant_id, P = pval) %>%\n",
    "  select(SNP, Chr, Position, P)\n",
    "\n",
    "head(plot_df)\n"
   ]
  },
  {
   "cell_type": "code",
   "execution_count": 15,
   "id": "ec1c6935-1702-4e10-9664-5debf370fc1c",
   "metadata": {},
   "outputs": [
    {
     "name": "stdout",
     "output_type": "stream",
     "text": [
      " Rectangular Manhattan plotting P.\n",
      " Plots are stored in: /home/ubuntu/project/susie_small \n"
     ]
    }
   ],
   "source": [
    "rectangular manhattan plot\n",
    "CMplot(\n",
    "  plot_df,\n",
    "  plot.type = \"m\",        # Manhattan\n",
    "  LOG10 = TRUE,           # plot -log10(P)\n",
    "  col = c(\"grey30\",\"grey60\"),\n",
    "  threshold = c(5e-8, 1e-5),        # two thresholds\n",
    "  threshold.col = c(\"red\",\"blue\"),  # colors for each threshold\n",
    "  threshold.lty = c(1,2),           # line type for each threshold\n",
    "  signal.col = \"blue\",\n",
    "  file = \"pdf\",\n",
    "  file.name = \"manhattan_eqtl\",\n",
    "  width = 10, height = 6, dpi = 300,\n",
    "  file.output = TRUE\n",
    ")\n"
   ]
  },
  {
   "cell_type": "code",
   "execution_count": 13,
   "id": "d16293e2-5d5a-499c-9f34-79925fbf4d41",
   "metadata": {},
   "outputs": [
    {
     "name": "stdout",
     "output_type": "stream",
     "text": [
      " Circular Manhattan plotting P.\n"
     ]
    },
    {
     "name": "stderr",
     "output_type": "stream",
     "text": [
      "Warning message in CMplot(plot_df, plot.type = \"c\", LOG10 = TRUE, r = 0.4, outward = FALSE, :\n",
      "“No significant points for P pass the threshold level using threshold=5e-08!”\n"
     ]
    },
    {
     "name": "stdout",
     "output_type": "stream",
     "text": [
      " Plots are stored in: /home/ubuntu/project/susie_small \n"
     ]
    }
   ],
   "source": [
    "## Circular manhattan plot, fancier\n",
    "CMplot(\n",
    "  plot_df,\n",
    "  plot.type = \"c\",   # circular\n",
    "  LOG10 = TRUE,\n",
    "  r = 0.4, \n",
    "  outward = FALSE,\n",
    "  col = c(\"dodgerblue3\",\"goldenrod2\"),\n",
    "  threshold = 5e-8,\n",
    "  threshold.col = \"red\",\n",
    "  threshold.lty = 2,\n",
    "  file = \"pdf\",\n",
    "  file.name = \"manhattan_eqtl_circular\",\n",
    "  width = 10, height = 10, dpi = 300,\n",
    "  file.output = TRUE\n",
    ")"
   ]
  },
  {
   "cell_type": "code",
   "execution_count": null,
   "id": "f7b2048d-f1f0-4690-bdfa-a5c93f11db8a",
   "metadata": {},
   "outputs": [],
   "source": []
  }
 ],
 "metadata": {
  "kernelspec": {
   "display_name": "R",
   "language": "R",
   "name": "ir"
  },
  "language_info": {
   "codemirror_mode": "r",
   "file_extension": ".r",
   "mimetype": "text/x-r-source",
   "name": "R",
   "pygments_lexer": "r",
   "version": "4.3.3"
  }
 },
 "nbformat": 4,
 "nbformat_minor": 5
}
